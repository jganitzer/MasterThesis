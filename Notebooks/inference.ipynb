{
 "cells": [
  {
   "cell_type": "markdown",
   "id": "a6274029-c6ae-482e-9e7b-dbc1a5b0ed99",
   "metadata": {},
   "source": [
    "<hr size=\"5\" />"
   ]
  },
  {
   "cell_type": "markdown",
   "id": "384bc8c6-5d68-4f17-8d9c-35c9495878b1",
   "metadata": {},
   "source": [
    "### **<font color='DarkCyan'>Salzburg University of Applied Sciences - 2023**  \n",
    "#### **<font color='DarkCyan'>Information Technology & Systems Engineering**"
   ]
  },
  {
   "cell_type": "markdown",
   "id": "01c7e8a2-ef40-4ba2-8bbc-31a6f8633eba",
   "metadata": {},
   "source": [
    "# **<font color='GoldenRod'>Master Thesis**  \n",
    "## **<font color='GoldenRod'>Deep Learning for Advancing Animal Breeding: A Study on Austrian Fleckvieh Cattle**"
   ]
  },
  {
   "cell_type": "markdown",
   "id": "6b7f99e1-7448-4d96-9c24-f0ea05bb68af",
   "metadata": {},
   "source": [
    "<hr size=\"5\">"
   ]
  },
  {
   "cell_type": "markdown",
   "id": "b84f424c-126d-4c56-8251-ffd2865e028b",
   "metadata": {},
   "source": [
    "#### Student Name: Jakob Ganitzer\n",
    "#### Degree Program:  ITSM-B"
   ]
  },
  {
   "cell_type": "markdown",
   "id": "cd9b0f9a-abca-4e04-b84e-9a2f00b33ab4",
   "metadata": {},
   "source": [
    "<hr size=\"5\" />"
   ]
  },
  {
   "cell_type": "markdown",
   "id": "93fa3f89",
   "metadata": {},
   "source": [
    "### Imports"
   ]
  },
  {
   "cell_type": "code",
   "execution_count": 23,
   "id": "1af608c0",
   "metadata": {},
   "outputs": [],
   "source": [
    "import pandas as pd\n",
    "import numpy as np\n",
    "import torch\n",
    "import torch.nn as nn\n",
    "import pandas as pd\n",
    "from torch.utils.data import DataLoader\n",
    "import matplotlib.pyplot as plt\n",
    "from models.megaencoder import MegaChunkRegressor_MLP2\n",
    "from models.hyenaEncoder import HyenaRegressor_MLP_cat_Reduced\n",
    "from sklearn.metrics import mean_absolute_error, r2_score\n",
    "from scipy.stats import pearsonr\n",
    "import torch.nn.functional as F\n",
    "from torch.utils.data import DataLoader, TensorDataset\n",
    "import seaborn as sns\n",
    "from models.graphsage import SAGE_OneHot_Linear\n",
    "from torch_geometric.utils import to_undirected\n",
    "from torch_geometric.loader import NeighborLoader\n",
    "import copy"
   ]
  },
  {
   "cell_type": "code",
   "execution_count": 2,
   "id": "c5bdf762",
   "metadata": {},
   "outputs": [],
   "source": [
    "#Mega Config\n",
    "\n",
    "#paddedLength = 34816\n",
    "paddedLength = 26624\n",
    "#paddedLength = 21504\n",
    "\n",
    "#max_pos = 34900\n",
    "max_pos = 27000\n",
    "#max_pos = 21510\n",
    "\n",
    "#chunk_size = 1024\n",
    "chunk_size = 512\n",
    "\n",
    "lr = 0.001 \n",
    "\n",
    "batch_size = 64 \n",
    "\n",
    "input_dim = 3\n",
    "num_layers = 2#4\n",
    "num_heads = 3\n",
    "\n",
    "gamma = 0.85\n",
    "\n",
    "hidden1 = 1000 #1000\n",
    "hidden2 = 500  #500\n",
    "hidden3 = 200\n"
   ]
  },
  {
   "cell_type": "code",
   "execution_count": 2,
   "id": "a32eb716",
   "metadata": {},
   "outputs": [],
   "source": [
    "#Hyena Config\n",
    "#Config\n",
    "\n",
    "#HyenaOperator\n",
    "order = 2 # 12, 18, 36\n",
    "activation = 'relu'  #'identity' # 'relu'\n",
    "\n",
    "#paddedLength = 26283\n",
    "#max_pos = 35000\n",
    "max_pos = 27000\n",
    "\n",
    "\n",
    "lr = 0.001 \n",
    "\n",
    "batch_size = 128 \n",
    "num_epochs = 40\n",
    "val_size = 0.01 \n",
    "\n",
    "input_dim = 8\n",
    "num_layers = 2\n",
    "num_heads = 1\n",
    "\n",
    "patience = 10\n",
    "\n",
    "hidden1 = 1000\n",
    "hidden2 = 500\n",
    "hidden3 = 200"
   ]
  },
  {
   "cell_type": "code",
   "execution_count": 3,
   "id": "733a4c21",
   "metadata": {},
   "outputs": [],
   "source": [
    "criterion = nn.MSELoss()"
   ]
  },
  {
   "cell_type": "markdown",
   "id": "6709eea1",
   "metadata": {},
   "source": [
    "### Load Data"
   ]
  },
  {
   "cell_type": "code",
   "execution_count": 4,
   "id": "08d98b17",
   "metadata": {},
   "outputs": [],
   "source": [
    "dataRoot = \"/data\""
   ]
  },
  {
   "cell_type": "code",
   "execution_count": 5,
   "id": "3982eb31",
   "metadata": {},
   "outputs": [],
   "source": [
    "heritability = \"/h40\"\n",
    "phenotype_path = dataRoot + heritability + heritability + \"_simu.dat\"\n",
    "snp_path = dataRoot + heritability + heritability + \"_simu.snp\"\n",
    "benchmark_path = dataRoot + heritability + heritability + \"_simu.bv\"\n",
    "pedigree_path = dataRoot + heritability + heritability + \"_simu.ped\"\n",
    "snpPos_path = dataRoot + heritability + heritability + \"_simu_snp.txt\"\n",
    "qtl_path = dataRoot + heritability + heritability + \"_simu_qtl.txt\""
   ]
  },
  {
   "cell_type": "code",
   "execution_count": 6,
   "id": "62f5a927",
   "metadata": {},
   "outputs": [],
   "source": [
    "checkpointRoot = '/data/checkpoints/'"
   ]
  },
  {
   "cell_type": "code",
   "execution_count": 6,
   "id": "fafed804",
   "metadata": {},
   "outputs": [],
   "source": [
    "modelName = '_'"
   ]
  },
  {
   "cell_type": "code",
   "execution_count": 8,
   "id": "0fe0838c",
   "metadata": {},
   "outputs": [],
   "source": [
    "heritability = \"/h40\"\n",
    "\n",
    "X_path = \"/test/snp_X_test_01_maf_one_hot.parquet\"\n",
    "\n",
    "y_path = \"/test/snp_y_test_01_maf_one_hot.parquet\"\n",
    "\n",
    "#gen30\n",
    "\n",
    "X_path = \"/test/snpGen30_X_test_01.parquet\"\n",
    "\n",
    "y_path = \"/test/snpGen30_y_test_01.parquet\""
   ]
  },
  {
   "cell_type": "code",
   "execution_count": 10,
   "id": "84f80da3",
   "metadata": {},
   "outputs": [],
   "source": [
    "#Hyena\n",
    "heritability = \"/h40\"\n",
    "X_path = \"/test/snp_X_test_01_maf.parquet\"\n",
    "\n",
    "y_path = \"/test/snp_y_test_01_maf.parquet\"\n",
    "\n",
    "#gen30\n",
    "trainPath = '/snp_pheno_BPpos_maf.parquet'\n",
    "testPath = '/snpTruePheno_gen30_BPpos_maf.parquet'"
   ]
  },
  {
   "cell_type": "code",
   "execution_count": 11,
   "id": "b3b774ef",
   "metadata": {},
   "outputs": [],
   "source": [
    "device = torch.device('cuda' if torch.cuda.is_available() else 'cpu')\n",
    "#device = torch.device('cpu')"
   ]
  },
  {
   "cell_type": "code",
   "execution_count": 28,
   "id": "c2c6ebfc",
   "metadata": {},
   "outputs": [],
   "source": [
    "df_snp_pheno_ped = pd.read_parquet(dataRoot + heritability + '/snp_maf_one_hot.parquet', engine='pyarrow')"
   ]
  },
  {
   "cell_type": "code",
   "execution_count": 11,
   "id": "7a1f0cba",
   "metadata": {},
   "outputs": [],
   "source": [
    "X_test_df = pd.read_parquet(dataRoot + heritability + X_path, engine='pyarrow')\n",
    "y_test_df = pd.read_parquet(dataRoot + heritability + y_path, engine='pyarrow')[\"phenotype\"]"
   ]
  },
  {
   "cell_type": "code",
   "execution_count": 7,
   "id": "c1c80efb",
   "metadata": {},
   "outputs": [],
   "source": [
    "#GraphSage\n",
    "data = torch.load(dataRoot + heritability + \"/graph_maf_float32.pt\")"
   ]
  },
  {
   "cell_type": "code",
   "execution_count": 10,
   "id": "eb75ea2e",
   "metadata": {},
   "outputs": [],
   "source": [
    "#GraphSage\n",
    "#Convert directed graph to undirected\n",
    "data.edge_index = to_undirected(data.edge_index)"
   ]
  },
  {
   "cell_type": "code",
   "execution_count": 13,
   "id": "f02f2bb0",
   "metadata": {},
   "outputs": [],
   "source": [
    "X_test_df.drop(\"id\", axis=1, inplace=True)"
   ]
  },
  {
   "cell_type": "code",
   "execution_count": 14,
   "id": "28eeb225",
   "metadata": {},
   "outputs": [],
   "source": [
    "# Convert the data frame back to a numpy array\n",
    "X_test = X_test_df.to_numpy()"
   ]
  },
  {
   "cell_type": "code",
   "execution_count": 15,
   "id": "81878b1d",
   "metadata": {},
   "outputs": [],
   "source": [
    "# Convert the data frame back to a numpy array\n",
    "X_test = X_test_df.to_numpy()\n",
    "\n",
    "# Reshape the data back to its original shape\n",
    "X_test = X_test.reshape(X_test_df.shape[0], int(X_test_df.shape[1]/3), 3)\n"
   ]
  },
  {
   "cell_type": "code",
   "execution_count": 16,
   "id": "5226de20",
   "metadata": {},
   "outputs": [],
   "source": [
    " # Create attention_mask (torch.FloatTensor of shape (batch_size, sequence_length)) for train and val\n",
    "attention_mask_test = torch.ones(X_test.shape[0], X_test.shape[1]).to('cpu')\n",
    "\n",
    "if(paddedLength != -1 and paddedLength > X_test.shape[1]):\n",
    "    pad = paddedLength - X_test.shape[1]\n",
    "    # Pad the data to the max length\n",
    "    X_test = np.pad(X_test, ((0,0),(0,pad),(0,0)), 'constant', constant_values=0)\n",
    "    attention_mask_test = F.pad(attention_mask_test, (0,pad), 'constant', 0)"
   ]
  },
  {
   "cell_type": "code",
   "execution_count": 17,
   "id": "481650a2",
   "metadata": {},
   "outputs": [],
   "source": [
    "X_test_tensor = torch.tensor(X_test, dtype=torch.float32).to('cpu')\n",
    "\n",
    "y_test_tensor = torch.tensor(y_test_df.values, dtype=torch.float32).to('cpu')"
   ]
  },
  {
   "cell_type": "code",
   "execution_count": 18,
   "id": "2776e697",
   "metadata": {},
   "outputs": [],
   "source": [
    "num_features = X_test_tensor.shape[1]"
   ]
  },
  {
   "cell_type": "code",
   "execution_count": 15,
   "id": "edbcbcea",
   "metadata": {},
   "outputs": [],
   "source": [
    "def add_value(x, value):\n",
    "    return x + value\n",
    "#gen30\n",
    "#cat\n",
    "df_snp_pheno_train = pd.read_parquet(dataRoot + heritability + trainPath, engine='pyarrow')\n",
    "df_snp_pheno_test = pd.read_parquet(dataRoot + heritability + testPath, engine='pyarrow')\n",
    "\n",
    "X_val_df = df_snp_pheno_test.drop(columns=['phenotype', 'id'], axis=1)\n",
    "y_val = df_snp_pheno_test[\"phenotype\"]\n",
    "\n",
    "# apply the function to each element of the DataFrame\n",
    "X_val_df = X_val_df.apply(add_value, value=7)\n",
    "\n",
    "X_test_tensor = torch.tensor(X_val_df.to_numpy(), dtype=torch.int).to('cpu')\n",
    "\n",
    "y_test_tensor = torch.tensor(y_val.values, dtype=torch.float).to('cpu')\n",
    "\n",
    "num_features = X_test_tensor.shape[1]\n",
    "\n",
    "#onehot"
   ]
  },
  {
   "cell_type": "code",
   "execution_count": 22,
   "id": "6d944796",
   "metadata": {},
   "outputs": [],
   "source": [
    "#model = MegaChunkRegressor_MLP(input_dim=input_dim, num_layers=num_layers, num_heads=num_heads, max_pos=max_pos, hidden1 = hidden1, hidden2 = hidden2, hidden3 = hidden3, num_features = num_features, chunk_size=chunk_size).to(device)\n",
    "model = MegaChunkRegressor_MLP2(input_dim=input_dim, num_layers=num_layers, num_heads=num_heads, max_pos=max_pos, hidden1 = hidden1, hidden2 = hidden2, hidden3 = hidden3, num_features = num_features, chunk_size=chunk_size).to(device)"
   ]
  },
  {
   "cell_type": "code",
   "execution_count": null,
   "id": "fbdb27bf",
   "metadata": {},
   "outputs": [],
   "source": [
    "#Hyena\n",
    "model = HyenaRegressor_MLP_cat_Reduced(input_dim=input_dim, num_layers=num_layers, num_heads=num_heads, max_pos=num_features, hidden1 = hidden1, hidden2 = hidden2, hidden3 = hidden3, num_features = num_features, order = order, activation = activation).to(device)\n",
    "#model = HyenaRegressor_MLP_cat(input_dim=input_dim, num_layers=num_layers, num_heads=num_heads, max_pos=num_features, hidden1 = hidden1, hidden2 = hidden2, hidden3 = hidden3, num_features = num_features, order = order, activation = activation).to(device)"
   ]
  },
  {
   "cell_type": "code",
   "execution_count": null,
   "id": "d249f638",
   "metadata": {},
   "outputs": [],
   "source": [
    "hidden1= 128\n",
    "hidden2= 64\n",
    "embed_dim = 256\n",
    "#model = SAGE_OneHot_MLP(data.x.size(1)* data.x.size(2), embed_dim, 1,hidden1 = hidden1, hidden2 = hidden2).to(device)\n",
    "#model = SAGE_OneHot_MLP(data.x.size(1), embed_dim, 1,hidden1 = hidden1, hidden2 = hidden2).to(device)\n",
    "\n",
    "model = SAGE_OneHot_Linear(data.x.size(1)* data.x.size(2), embed_dim, 1,hidden1 = hidden1, hidden2 = hidden2).to(device)"
   ]
  },
  {
   "cell_type": "code",
   "execution_count": null,
   "id": "ba2941e1",
   "metadata": {},
   "outputs": [
    {
     "data": {
      "text/plain": [
       "<All keys matched successfully>"
      ]
     },
     "execution_count": 36,
     "metadata": {},
     "output_type": "execute_result"
    }
   ],
   "source": [
    "# Load the saved checkpoint\n",
    "checkpoint = torch.load(checkpointRoot + modelName + '/best_model.pth')\n",
    "model.load_state_dict(checkpoint['model_state_dict'])"
   ]
  },
  {
   "cell_type": "code",
   "execution_count": null,
   "id": "321fc619",
   "metadata": {},
   "outputs": [],
   "source": [
    "model.eval()"
   ]
  },
  {
   "cell_type": "code",
   "execution_count": 26,
   "id": "03b44d7e",
   "metadata": {},
   "outputs": [],
   "source": [
    "test_dataset = TensorDataset(X_test_tensor, y_test_tensor)\n",
    "\n",
    "test_loader = DataLoader(test_dataset, batch_size=batch_size, shuffle=False, pin_memory = True,num_workers = 2)"
   ]
  },
  {
   "cell_type": "code",
   "execution_count": 38,
   "id": "263e3c84",
   "metadata": {},
   "outputs": [],
   "source": [
    "inference_df = pd.DataFrame(columns=['targets', 'output'])\n",
    "dtype1 = torch.cuda.IntTensor\n",
    "dtype2 = torch.cuda.FloatTensor\n",
    "\n",
    "with torch.no_grad():\n",
    "    for data, targets in test_loader:\n",
    "        with torch.cuda.amp.autocast():\n",
    "            data = data.to(device).type(dtype1)\n",
    "            targets = targets.to(device).type(dtype2)\n",
    "\n",
    "            output,pooled_output, embedding = model(data)\n",
    "            \n",
    "            targets_np = targets.cpu().numpy()\n",
    "            output_np = output.cpu().numpy()\n",
    "\n",
    "            temp_df = pd.DataFrame({\n",
    "                'targets': targets_np,\n",
    "                'output': output_np\n",
    "            })\n",
    "\n",
    "            inference_df = pd.concat([inference_df, temp_df], ignore_index=True)"
   ]
  },
  {
   "cell_type": "code",
   "execution_count": 26,
   "id": "a4e9816a",
   "metadata": {},
   "outputs": [],
   "source": [
    "inference_df = pd.DataFrame(columns=['targets', 'output'])\n",
    "dtype = torch.cuda.FloatTensor\n",
    "\n",
    "with torch.no_grad():\n",
    "    for data, targets, attention_mask_val in test_loader:\n",
    "        with torch.cuda.amp.autocast():\n",
    "            data = data.to(device).type(dtype)\n",
    "            targets = targets.to(device).type(dtype)\n",
    "            attention_mask_val = attention_mask_val.to(device).type(torch.cuda.IntTensor)\n",
    "\n",
    "            output,_,_ = model(data, attention_mask_val)\n",
    "            \n",
    "            targets_np = targets.cpu().numpy()\n",
    "            output_np = output.cpu().numpy()\n",
    "\n",
    "            temp_df = pd.DataFrame({\n",
    "                'targets': targets_np,\n",
    "                'output': output_np\n",
    "            })\n",
    "\n",
    "            inference_df = pd.concat([inference_df, temp_df], ignore_index=True)"
   ]
  },
  {
   "cell_type": "code",
   "execution_count": 18,
   "id": "b1b3b852",
   "metadata": {},
   "outputs": [],
   "source": [
    "#GraphSage\n",
    "batch_size = 64\n",
    "kwargs = {'batch_size': batch_size, 'num_workers': 0, 'persistent_workers': False}\n",
    "subgraph_loader = NeighborLoader(copy.copy(data), input_nodes=None,\n",
    "                                 num_neighbors=[-1], shuffle=False, **kwargs)\n",
    "\n",
    "model.eval()  \n",
    "total_loss = 0.\n",
    "total_mae = 0.  \n",
    "total_r2 = 0. \n",
    "total_pearson = 0. \n",
    "total_pvalue = 0.\n",
    "\n",
    "dtype = torch.cuda.FloatTensor\n",
    "\n",
    "y_hat, embeddings = model.inference(data.x, subgraph_loader, device)\n",
    "target = data.y.to(y_hat.device)\n",
    "\n",
    "total_loss = []\n",
    "total_mae = []\n",
    "total_r2 = []\n",
    "total_pearson = []\n",
    "total_pvalue = []\n",
    "\n",
    "mask = data.test_mask\n",
    "\n",
    "loss = criterion(y_hat[mask], target[mask])\n",
    "mae = mean_absolute_error(target[mask].cpu().numpy(), y_hat[mask].detach().cpu().numpy())\n",
    "r2 = r2_score(target[mask].cpu().numpy(), y_hat[mask].detach().cpu().numpy())\n",
    "_pearsonr, _pvalue = pearsonr(target[mask].cpu().numpy(), y_hat[mask].detach().cpu().numpy())\n"
   ]
  },
  {
   "cell_type": "code",
   "execution_count": null,
   "id": "d7df2919",
   "metadata": {},
   "outputs": [],
   "source": [
    "last_embeddings = embeddings[-1]\n",
    "embeddings_np = last_embeddings.cpu().numpy().astype('float32')"
   ]
  },
  {
   "cell_type": "code",
   "execution_count": 21,
   "id": "11109eb2",
   "metadata": {},
   "outputs": [],
   "source": [
    "#inference_df = pd.DataFrame(columns=['targets', 'output'])\n",
    "inference_df = pd.DataFrame(columns=['targets', 'output', 'id'])"
   ]
  },
  {
   "cell_type": "code",
   "execution_count": 22,
   "id": "ed0de73b",
   "metadata": {},
   "outputs": [],
   "source": [
    "# Create a list of dictionaries to populate the DataFrame\n",
    "dataSage = []\n",
    "for t, y in zip(target, y_hat):\n",
    "    dataSage.append({'targets': t.item(), 'output': y.item()})\n",
    "\n",
    "# Populate the DataFrame using concat\n",
    "inference_df = pd.concat([inference_df, pd.DataFrame(dataSage)], ignore_index=True)\n",
    "inference_df['id'] = data.node_ids"
   ]
  },
  {
   "cell_type": "code",
   "execution_count": 24,
   "id": "c4adab02",
   "metadata": {},
   "outputs": [],
   "source": [
    "data_dict = {}\n",
    "for i in range(embeddings_np.shape[1]):\n",
    "    column_name = f\"embedding_{i}\"\n",
    "    data_dict[column_name] = embeddings_np[:, i]\n",
    "\n",
    "df_pooled_output = pd.DataFrame(data_dict)"
   ]
  },
  {
   "cell_type": "code",
   "execution_count": 25,
   "id": "d0f52ba8",
   "metadata": {},
   "outputs": [],
   "source": [
    "combined_df = pd.concat([inference_df, df_pooled_output], axis=1)"
   ]
  },
  {
   "cell_type": "code",
   "execution_count": 29,
   "id": "c5eac581",
   "metadata": {},
   "outputs": [],
   "source": [
    "targets = torch.tensor(inference_df['targets'].values).to(device)\n",
    "output = torch.tensor(inference_df['output'].values).to(device)"
   ]
  },
  {
   "cell_type": "code",
   "execution_count": 26,
   "id": "cd47ab31",
   "metadata": {},
   "outputs": [],
   "source": [
    "combined_df.to_parquet(dataRoot + heritability + '/df_graphSage_hyenaEmbeddings.parquet')"
   ]
  },
  {
   "cell_type": "code",
   "execution_count": 44,
   "id": "97e11792",
   "metadata": {},
   "outputs": [],
   "source": [
    "loss = criterion(output, targets)\n",
    "mae = mean_absolute_error(targets.cpu().numpy(), output.detach().cpu().numpy())\n",
    "r2 = r2_score(targets.cpu().numpy(), output.detach().cpu().numpy())\n",
    "_pearsonr, _pvalue = pearsonr(targets.cpu().numpy(), output.detach().cpu().numpy())"
   ]
  },
  {
   "cell_type": "code",
   "execution_count": null,
   "id": "e9cab6e0",
   "metadata": {},
   "outputs": [],
   "source": [
    "print(\"Loss:\", loss)\n",
    "print(\"Mean Absolute Error:\", mae)\n",
    "print(\"R2 Score:\", r2)\n",
    "print(\"Pearson Correlation Coefficient:\", _pearsonr)\n",
    "print(\"p-value:\", _pvalue)"
   ]
  },
  {
   "cell_type": "code",
   "execution_count": 34,
   "id": "137dba81",
   "metadata": {},
   "outputs": [
    {
     "data": {
      "image/png": "[encoded data removed]",
      "text/plain": [
       "<Figure size 700x700 with 1 Axes>"
      ]
     },
     "metadata": {},
     "output_type": "display_data"
    }
   ],
   "source": [
    "# Show correlation between phenotypes\n",
    "\n",
    "fig, ax = plt.subplots(figsize=(7, 7))  # Create a single plot (one set of axes)\n",
    "\n",
    "# Scatter plot\n",
    "sns.scatterplot(data=inference_df, x=\"output\", y=\"targets\", ax=ax)\n",
    "\n",
    "# Add trendline\n",
    "sns.regplot(data=inference_df, x=\"output\", y=\"targets\", ax=ax, line_kws={\"color\": \"red\"})\n",
    "\n",
    "# Add correlation coefficient\n",
    "r = inference_df[\"output\"].corr(inference_df[\"targets\"])\n",
    "ax.text(0.05, 0.95, \"r = {:.4f}\".format(r), transform=ax.transAxes, va=\"top\")\n",
    "\n",
    "plt.show()  # Display the plot\n"
   ]
  }
 ],
 "metadata": {
  "kernelspec": {
   "display_name": "Python 3 (ipykernel)",
   "language": "python",
   "name": "python3"
  },
  "language_info": {
   "codemirror_mode": {
    "name": "ipython",
    "version": 3
   },
   "file_extension": ".py",
   "mimetype": "text/x-python",
   "name": "python",
   "nbconvert_exporter": "python",
   "pygments_lexer": "ipython3",
   "version": "3.9.16"
  },
  "vscode": {
   "interpreter": {
    "hash": "369f2c481f4da34e4445cda3fffd2e751bd1c4d706f27375911949ba6bb62e1c"
   }
  }
 },
 "nbformat": 4,
 "nbformat_minor": 5
}
