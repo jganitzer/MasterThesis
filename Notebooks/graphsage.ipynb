{
 "cells": [
  {
   "cell_type": "markdown",
   "id": "a6274029-c6ae-482e-9e7b-dbc1a5b0ed99",
   "metadata": {},
   "source": [
    "<hr size=\"5\" />"
   ]
  },
  {
   "cell_type": "markdown",
   "id": "384bc8c6-5d68-4f17-8d9c-35c9495878b1",
   "metadata": {},
   "source": [
    "### **<font color='DarkCyan'>Salzburg University of Applied Sciences - 2023**  \n",
    "#### **<font color='DarkCyan'>Information Technology & Systems Engineering**"
   ]
  },
  {
   "cell_type": "markdown",
   "id": "01c7e8a2-ef40-4ba2-8bbc-31a6f8633eba",
   "metadata": {},
   "source": [
    "# **<font color='GoldenRod'>Master Thesis**  \n",
    "## **<font color='GoldenRod'>Deep Learning for Advancing Animal Breeding: A Study on Austrian Fleckvieh Cattle**"
   ]
  },
  {
   "cell_type": "markdown",
   "id": "6b7f99e1-7448-4d96-9c24-f0ea05bb68af",
   "metadata": {},
   "source": [
    "<hr size=\"5\">"
   ]
  },
  {
   "cell_type": "markdown",
   "id": "b84f424c-126d-4c56-8251-ffd2865e028b",
   "metadata": {},
   "source": [
    "#### Student Name: Jakob Ganitzer\n",
    "#### Degree Program:  ITSM-B"
   ]
  },
  {
   "cell_type": "markdown",
   "id": "cd9b0f9a-abca-4e04-b84e-9a2f00b33ab4",
   "metadata": {},
   "source": [
    "<hr size=\"5\" />"
   ]
  },
  {
   "cell_type": "markdown",
   "id": "93fa3f89",
   "metadata": {},
   "source": [
    "### Imports"
   ]
  },
  {
   "cell_type": "code",
   "execution_count": null,
   "id": "1af608c0",
   "metadata": {},
   "outputs": [],
   "source": [
    "import wandb\n",
    "import pandas as pd\n",
    "import numpy as np\n",
    "import seaborn as sns\n",
    "import matplotlib.pyplot as plt\n",
    "\n",
    "from sklearn.model_selection import train_test_split\n",
    "import torch\n",
    "from torch_geometric.data import Dataset, Data\n"
   ]
  },
  {
   "cell_type": "markdown",
   "id": "6709eea1",
   "metadata": {},
   "source": [
    "### Load Data"
   ]
  },
  {
   "cell_type": "code",
   "execution_count": 2,
   "id": "a4956e19",
   "metadata": {},
   "outputs": [],
   "source": [
    "dataRoot = \"/data\""
   ]
  },
  {
   "cell_type": "code",
   "execution_count": 3,
   "id": "cd178c48",
   "metadata": {},
   "outputs": [],
   "source": [
    "heritability = \"/h40\""
   ]
  },
  {
   "cell_type": "code",
   "execution_count": 4,
   "id": "2ad0bb4e",
   "metadata": {},
   "outputs": [],
   "source": [
    "phenotype_path = dataRoot + heritability + heritability + \"_simu.dat\"\n",
    "snp_path = dataRoot + heritability + heritability + \"_simu.snp\"\n",
    "benchmark_path = dataRoot + heritability + heritability + \"_simu.bv\"\n",
    "pedigree_path = dataRoot + heritability + heritability + \"_simu.ped\"\n",
    "snpPos_path = dataRoot + heritability + heritability + \"_simu_snp.txt\"\n",
    "qtl_path = dataRoot + heritability + heritability + \"_simu_qtl.txt\""
   ]
  },
  {
   "cell_type": "code",
   "execution_count": 6,
   "id": "96ffb7f9",
   "metadata": {},
   "outputs": [],
   "source": [
    "data = torch.load(dataRoot + heritability + \"/_.pt\")"
   ]
  },
  {
   "cell_type": "code",
   "execution_count": 13,
   "id": "a132b0a7",
   "metadata": {},
   "outputs": [],
   "source": [
    "df_ped = pd.read_csv(pedigree_path, sep=\" \", header=None, names=[\"id\", \"sire\", \"dam\", \"generation\", \"sex\"])"
   ]
  },
  {
   "cell_type": "code",
   "execution_count": 23,
   "id": "aa9c25a3",
   "metadata": {},
   "outputs": [],
   "source": [
    "df_snp_gen30_ped = pd.read_parquet(dataRoot + heritability + '/snpTruePheno_gen30_BPpos_maf_one_hot_ped.parquet', engine='pyarrow')"
   ]
  },
  {
   "cell_type": "code",
   "execution_count": 5,
   "id": "0e5f3daf",
   "metadata": {},
   "outputs": [],
   "source": [
    "data = torch.load(dataRoot + heritability + \"/graph_maf.pt\")"
   ]
  },
  {
   "cell_type": "code",
   "execution_count": 47,
   "id": "b5fb6ef9",
   "metadata": {},
   "outputs": [],
   "source": [
    "df_pheno = pd.read_csv(phenotype_path , sep=\" \", header=None, names=[\"id\", \"fixed_effect\", \"phenotype\"])"
   ]
  },
  {
   "cell_type": "code",
   "execution_count": 8,
   "id": "0d3db9b6",
   "metadata": {},
   "outputs": [
    {
     "data": {
      "text/html": [
       "<div>\n",
       "<style scoped>\n",
       "    .dataframe tbody tr th:only-of-type {\n",
       "        vertical-align: middle;\n",
       "    }\n",
       "\n",
       "    .dataframe tbody tr th {\n",
       "        vertical-align: top;\n",
       "    }\n",
       "\n",
       "    .dataframe thead th {\n",
       "        text-align: right;\n",
       "    }\n",
       "</style>\n",
       "<table border=\"1\" class=\"dataframe\">\n",
       "  <thead>\n",
       "    <tr style=\"text-align: right;\">\n",
       "      <th></th>\n",
       "      <th>id</th>\n",
       "      <th>fixed_effect</th>\n",
       "      <th>phenotype</th>\n",
       "    </tr>\n",
       "  </thead>\n",
       "  <tbody>\n",
       "    <tr>\n",
       "      <th>0</th>\n",
       "      <td>201.0</td>\n",
       "      <td>1</td>\n",
       "      <td>0.766089</td>\n",
       "    </tr>\n",
       "    <tr>\n",
       "      <th>1</th>\n",
       "      <td>202.0</td>\n",
       "      <td>1</td>\n",
       "      <td>1.853758</td>\n",
       "    </tr>\n",
       "    <tr>\n",
       "      <th>2</th>\n",
       "      <td>203.0</td>\n",
       "      <td>1</td>\n",
       "      <td>0.970537</td>\n",
       "    </tr>\n",
       "    <tr>\n",
       "      <th>3</th>\n",
       "      <td>204.0</td>\n",
       "      <td>1</td>\n",
       "      <td>0.362347</td>\n",
       "    </tr>\n",
       "    <tr>\n",
       "      <th>4</th>\n",
       "      <td>205.0</td>\n",
       "      <td>1</td>\n",
       "      <td>0.875165</td>\n",
       "    </tr>\n",
       "  </tbody>\n",
       "</table>\n",
       "</div>"
      ],
      "text/plain": [
       "      id  fixed_effect  phenotype\n",
       "0  201.0             1   0.766089\n",
       "1  202.0             1   1.853758\n",
       "2  203.0             1   0.970537\n",
       "3  204.0             1   0.362347\n",
       "4  205.0             1   0.875165"
      ]
     },
     "execution_count": 8,
     "metadata": {},
     "output_type": "execute_result"
    }
   ],
   "source": [
    "df_pheno.head()"
   ]
  },
  {
   "cell_type": "code",
   "execution_count": 9,
   "id": "0bc8194d",
   "metadata": {},
   "outputs": [],
   "source": [
    "# load data\n",
    "#data = torch.load(\"data_v1.pt\")"
   ]
  },
  {
   "cell_type": "code",
   "execution_count": 8,
   "id": "d544d78b",
   "metadata": {},
   "outputs": [],
   "source": [
    "df_ids = df_snp_pheno_ped[[\"id\"]]\n",
    "\n",
    "# drop id and phenotype columns\n",
    "df_snp_temp = df_snp_pheno_ped.drop([\"id\", \"phenotype\", \"sire\", \"dam\", \"generation\", \"sex\"], axis=1)"
   ]
  },
  {
   "cell_type": "code",
   "execution_count": 11,
   "id": "ede14333",
   "metadata": {},
   "outputs": [],
   "source": [
    "# Convert the data frame back to a numpy array\n",
    "snp_array = df_snp_temp.to_numpy()\n",
    "\n",
    "# Reshape the data back to its original shape\n",
    "snp_one_hot = snp_array.reshape(df_snp_temp.shape[0], int(df_snp_temp.shape[1]/3), 3)"
   ]
  },
  {
   "cell_type": "markdown",
   "id": "4ff8638f",
   "metadata": {},
   "source": [
    "## Graph Generation"
   ]
  },
  {
   "cell_type": "code",
   "execution_count": 61,
   "id": "6f2163aa",
   "metadata": {},
   "outputs": [],
   "source": [
    "df_snp_pheno_ped = pd.read_parquet(dataRoot + heritability + '/snp_maf_one_hot_ped_gen30.parquet', engine='pyarrow')"
   ]
  },
  {
   "cell_type": "code",
   "execution_count": 6,
   "id": "b5b2d633",
   "metadata": {},
   "outputs": [],
   "source": [
    "df_snp_pheno_ped = pd.read_parquet(dataRoot + heritability + '/snp_maf_one_hot_ped.parquet', engine='pyarrow')"
   ]
  },
  {
   "cell_type": "code",
   "execution_count": 7,
   "id": "a51d65d5",
   "metadata": {},
   "outputs": [],
   "source": [
    "df_snp_sire = pd.read_parquet(dataRoot + heritability + '/snp_sire_BPpos_maf_one_hot_gen30.parquet', engine='pyarrow')"
   ]
  },
  {
   "cell_type": "code",
   "execution_count": null,
   "id": "ea9cd91d",
   "metadata": {},
   "outputs": [],
   "source": [
    "df_snp_sire = pd.read_parquet(dataRoot + heritability + '/snp_sire_BPpos_maf_gen30.parquet', engine='pyarrow')"
   ]
  },
  {
   "cell_type": "code",
   "execution_count": 19,
   "id": "3c7dbeb0",
   "metadata": {},
   "outputs": [],
   "source": [
    "df_pheno = pd.read_csv(phenotype_path , sep=\" \", header=None, names=[\"id\", \"fixed_effect\", \"phenotype\"])"
   ]
  },
  {
   "cell_type": "code",
   "execution_count": 20,
   "id": "2a18a754",
   "metadata": {},
   "outputs": [
    {
     "data": {
      "text/html": [
       "<div>\n",
       "<style scoped>\n",
       "    .dataframe tbody tr th:only-of-type {\n",
       "        vertical-align: middle;\n",
       "    }\n",
       "\n",
       "    .dataframe tbody tr th {\n",
       "        vertical-align: top;\n",
       "    }\n",
       "\n",
       "    .dataframe thead th {\n",
       "        text-align: right;\n",
       "    }\n",
       "</style>\n",
       "<table border=\"1\" class=\"dataframe\">\n",
       "  <thead>\n",
       "    <tr style=\"text-align: right;\">\n",
       "      <th></th>\n",
       "      <th>id</th>\n",
       "      <th>fixed_effect</th>\n",
       "      <th>phenotype</th>\n",
       "    </tr>\n",
       "  </thead>\n",
       "  <tbody>\n",
       "    <tr>\n",
       "      <th>0</th>\n",
       "      <td>201.0</td>\n",
       "      <td>1</td>\n",
       "      <td>0.766089</td>\n",
       "    </tr>\n",
       "    <tr>\n",
       "      <th>1</th>\n",
       "      <td>202.0</td>\n",
       "      <td>1</td>\n",
       "      <td>1.853758</td>\n",
       "    </tr>\n",
       "    <tr>\n",
       "      <th>2</th>\n",
       "      <td>203.0</td>\n",
       "      <td>1</td>\n",
       "      <td>0.970537</td>\n",
       "    </tr>\n",
       "    <tr>\n",
       "      <th>3</th>\n",
       "      <td>204.0</td>\n",
       "      <td>1</td>\n",
       "      <td>0.362347</td>\n",
       "    </tr>\n",
       "    <tr>\n",
       "      <th>4</th>\n",
       "      <td>205.0</td>\n",
       "      <td>1</td>\n",
       "      <td>0.875165</td>\n",
       "    </tr>\n",
       "    <tr>\n",
       "      <th>...</th>\n",
       "      <td>...</td>\n",
       "      <td>...</td>\n",
       "      <td>...</td>\n",
       "    </tr>\n",
       "    <tr>\n",
       "      <th>650995</th>\n",
       "      <td>1260192.0</td>\n",
       "      <td>1</td>\n",
       "      <td>14.630073</td>\n",
       "    </tr>\n",
       "    <tr>\n",
       "      <th>650996</th>\n",
       "      <td>1260194.0</td>\n",
       "      <td>1</td>\n",
       "      <td>11.466613</td>\n",
       "    </tr>\n",
       "    <tr>\n",
       "      <th>650997</th>\n",
       "      <td>1260196.0</td>\n",
       "      <td>1</td>\n",
       "      <td>13.342062</td>\n",
       "    </tr>\n",
       "    <tr>\n",
       "      <th>650998</th>\n",
       "      <td>1260198.0</td>\n",
       "      <td>1</td>\n",
       "      <td>11.703152</td>\n",
       "    </tr>\n",
       "    <tr>\n",
       "      <th>650999</th>\n",
       "      <td>1260200.0</td>\n",
       "      <td>1</td>\n",
       "      <td>11.783165</td>\n",
       "    </tr>\n",
       "  </tbody>\n",
       "</table>\n",
       "<p>651000 rows × 3 columns</p>\n",
       "</div>"
      ],
      "text/plain": [
       "               id  fixed_effect  phenotype\n",
       "0           201.0             1   0.766089\n",
       "1           202.0             1   1.853758\n",
       "2           203.0             1   0.970537\n",
       "3           204.0             1   0.362347\n",
       "4           205.0             1   0.875165\n",
       "...           ...           ...        ...\n",
       "650995  1260192.0             1  14.630073\n",
       "650996  1260194.0             1  11.466613\n",
       "650997  1260196.0             1  13.342062\n",
       "650998  1260198.0             1  11.703152\n",
       "650999  1260200.0             1  11.783165\n",
       "\n",
       "[651000 rows x 3 columns]"
      ]
     },
     "execution_count": 20,
     "metadata": {},
     "output_type": "execute_result"
    }
   ],
   "source": [
    "df_pheno"
   ]
  },
  {
   "cell_type": "code",
   "execution_count": 21,
   "id": "f2cdc68b",
   "metadata": {},
   "outputs": [],
   "source": [
    "df_pheno.drop([\"fixed_effect\"], axis=1, inplace = True)"
   ]
  },
  {
   "cell_type": "code",
   "execution_count": 24,
   "id": "33285769",
   "metadata": {},
   "outputs": [],
   "source": [
    "true_pheno = df_snp_gen30_ped[['id', 'phenotype']].copy()"
   ]
  },
  {
   "cell_type": "code",
   "execution_count": 25,
   "id": "41d4660c",
   "metadata": {},
   "outputs": [],
   "source": [
    "df_pheno = pd.concat([df_pheno, true_pheno], ignore_index=True)"
   ]
  },
  {
   "cell_type": "code",
   "execution_count": 28,
   "id": "936e4b4e",
   "metadata": {},
   "outputs": [],
   "source": [
    "df_ids = df_snp_pheno_ped[[\"id\"]]\n",
    "df_snp_temp = df_snp_pheno_ped.drop([\"id\", \"phenotype\", \"sire\", \"dam\", \"generation\", \"sex\"], axis=1)"
   ]
  },
  {
   "cell_type": "code",
   "execution_count": 111,
   "id": "19f311d4",
   "metadata": {},
   "outputs": [],
   "source": [
    "df_sire_ids = df_snp_sire[[\"id\"]]\n",
    "df_snp_sire_temp = df_snp_sire.drop([\"id\"], axis=1)"
   ]
  },
  {
   "cell_type": "code",
   "execution_count": 112,
   "id": "bbe44661",
   "metadata": {},
   "outputs": [],
   "source": [
    "result_df = pd.concat([df_snp_temp, df_snp_sire_temp], ignore_index=True)"
   ]
  },
  {
   "cell_type": "code",
   "execution_count": 113,
   "id": "c849609f",
   "metadata": {},
   "outputs": [],
   "source": [
    "result_id_df = pd.concat([df_ids, df_sire_ids], ignore_index=True)"
   ]
  },
  {
   "cell_type": "code",
   "execution_count": null,
   "id": "81fe77ca",
   "metadata": {},
   "outputs": [],
   "source": [
    "snp_array = result_df.to_numpy()"
   ]
  },
  {
   "cell_type": "code",
   "execution_count": 30,
   "id": "c7074e70",
   "metadata": {},
   "outputs": [],
   "source": [
    "#ordinary\n",
    "def add_value(x, value):\n",
    "    return x + value\n",
    "\n",
    "df_snp_temp = df_snp_temp.apply(add_value, value=7)\n",
    "\n",
    "snp_array = df_snp_temp.to_numpy()"
   ]
  },
  {
   "cell_type": "code",
   "execution_count": 25,
   "id": "9ad48348",
   "metadata": {},
   "outputs": [],
   "source": [
    "# Reshape the data back to its original shape\n",
    "snp_one_hot = snp_array.reshape(df_snp_temp.shape[0], int(df_snp_temp.shape[1]/3), 3)"
   ]
  },
  {
   "cell_type": "code",
   "execution_count": 115,
   "id": "30188cb1",
   "metadata": {},
   "outputs": [],
   "source": [
    "snp_one_hot = snp_array.reshape(result_df.shape[0], int(result_df.shape[1]/3), 3)"
   ]
  },
  {
   "cell_type": "code",
   "execution_count": 38,
   "id": "ac2bbf4b",
   "metadata": {},
   "outputs": [],
   "source": [
    "animal_ids = df_snp_pheno_ped['id'].unique()\n",
    "dam_ids = df_snp_pheno_ped['dam'].unique()\n",
    "sire_ids = df_snp_pheno_ped['sire'].unique()"
   ]
  },
  {
   "cell_type": "code",
   "execution_count": 39,
   "id": "d9a49831",
   "metadata": {},
   "outputs": [],
   "source": [
    "id_to_index = {id: index for index, id in enumerate({*animal_ids, *dam_ids, *sire_ids})}\n",
    "#id_to_index = {id: index for index, id in enumerate({*animal_ids, *dam_ids})}"
   ]
  },
  {
   "cell_type": "code",
   "execution_count": 40,
   "id": "a5dfa426",
   "metadata": {},
   "outputs": [],
   "source": [
    "index_to_id = {index: id for id, index in id_to_index.items()}"
   ]
  },
  {
   "cell_type": "code",
   "execution_count": 41,
   "id": "60deecb0",
   "metadata": {},
   "outputs": [],
   "source": [
    "#ordinary encoding\n",
    "# dictinary of id to one hot encoded snp sequence\n",
    "id_to_snp = dict(zip(df_ids[\"id\"], torch.from_numpy(snp_array)))\n",
    "\n",
    "# replace the id ind id_to_snp_one_hot with the corresponding index in id_to_index\n",
    "index_to_snp = {id_to_index[id]: snp for id, snp in id_to_snp.items()}\n"
   ]
  },
  {
   "cell_type": "code",
   "execution_count": 30,
   "id": "59ee4f81",
   "metadata": {},
   "outputs": [],
   "source": [
    "# dictinary of id to one hot encoded snp sequence\n",
    "id_to_snp_one_hot = dict(zip(df_ids[\"id\"], torch.from_numpy(snp_one_hot)))\n",
    "\n",
    "# replace the id ind id_to_snp_one_hot with the corresponding index in id_to_index\n",
    "index_to_snp_one_hot = {id_to_index[id]: snp for id, snp in id_to_snp_one_hot.items()}"
   ]
  },
  {
   "cell_type": "code",
   "execution_count": 120,
   "id": "6b448b50",
   "metadata": {},
   "outputs": [],
   "source": [
    "# with sire genotype\n",
    "# dictinary of id to one hot encoded snp sequence\n",
    "id_to_snp_one_hot = dict(zip(result_id_df[\"id\"], torch.from_numpy(snp_one_hot)))\n",
    "\n",
    "# replace the id ind id_to_snp_one_hot with the corresponding index in id_to_index\n",
    "index_to_snp_one_hot = {id_to_index[id]: snp for id, snp in id_to_snp_one_hot.items()}"
   ]
  },
  {
   "cell_type": "code",
   "execution_count": 42,
   "id": "ea957fae",
   "metadata": {},
   "outputs": [],
   "source": [
    "#ordinary\n",
    "num_features = snp_array.shape[1]\n",
    "node_features = torch.zeros(len(id_to_index), num_features) # ordinal encoding\n",
    "node_labels = torch.tensor(np.full(len(id_to_index), np.nan), dtype=torch.float32)"
   ]
  },
  {
   "cell_type": "code",
   "execution_count": 43,
   "id": "77f9a164",
   "metadata": {},
   "outputs": [],
   "source": [
    "#ordinary\n",
    "# replace the values in node_features whith the values from index_to_snp_one_hot by the corresponding index\n",
    "for index, snp in index_to_snp.items():\n",
    "    node_features[index] = snp"
   ]
  },
  {
   "cell_type": "code",
   "execution_count": 44,
   "id": "966b3f0d",
   "metadata": {},
   "outputs": [],
   "source": [
    "# Convert the tensor to integer data type\n",
    "node_features = node_features.to(torch.int)"
   ]
  },
  {
   "cell_type": "code",
   "execution_count": 46,
   "id": "a770b2f1",
   "metadata": {},
   "outputs": [
    {
     "data": {
      "text/plain": [
       "torch.Size([284992, 26282])"
      ]
     },
     "execution_count": 46,
     "metadata": {},
     "output_type": "execute_result"
    }
   ],
   "source": [
    "node_features.shape"
   ]
  },
  {
   "cell_type": "code",
   "execution_count": 19,
   "id": "de43d820",
   "metadata": {},
   "outputs": [],
   "source": [
    "#num_features = len([col for col in df_snp_pheno_ped.columns if col.startswith('snp_')])\n",
    "num_features = snp_one_hot.shape[1]\n",
    "\n",
    "#node_features = torch.zeros(len(id_to_index), num_features) # ordinal encoding\n",
    "node_features2 = torch.zeros(len(id_to_index), num_features, 3) # one-hot encoding\n",
    "node_labels = torch.zeros(len(id_to_index))"
   ]
  },
  {
   "cell_type": "code",
   "execution_count": 121,
   "id": "06face2e",
   "metadata": {},
   "outputs": [],
   "source": [
    "#num_features = len([col for col in df_snp_pheno_ped.columns if col.startswith('snp_')])\n",
    "num_features = snp_one_hot.shape[1]\n",
    "\n",
    "#node_features = torch.tensor(np.full((len(id_to_index), num_features), np.nan), dtype=torch.float16) # ordinally encoded\n",
    "#node_features = torch.tensor(np.full((len(id_to_index), num_features, 3), np.nan), dtype=torch.float16) # one-hot encoded\n",
    "node_features = torch.zeros(len(id_to_index), num_features, 3) # one-hot encoding\n",
    "\n",
    "node_labels = torch.tensor(np.full(len(id_to_index), np.nan), dtype=torch.float32)"
   ]
  },
  {
   "cell_type": "code",
   "execution_count": 122,
   "id": "0b33f8d1",
   "metadata": {},
   "outputs": [],
   "source": [
    "# replace the values in node_features whith the values from index_to_snp_one_hot by the corresponding index\n",
    "for index, snp in index_to_snp_one_hot.items():\n",
    "    node_features[index] = snp"
   ]
  },
  {
   "cell_type": "code",
   "execution_count": 47,
   "id": "8a5441ab",
   "metadata": {},
   "outputs": [],
   "source": [
    "# get indices from id_to_index with animal_ids and convert to tensor\n",
    "animal_indices = torch.tensor([id_to_index[id] for id in animal_ids])"
   ]
  },
  {
   "cell_type": "code",
   "execution_count": 48,
   "id": "c1e528f8",
   "metadata": {},
   "outputs": [],
   "source": [
    "# Create edge indices\n",
    "valid_dam_indices = df_snp_pheno_ped['dam'].map(id_to_index).notna()\n",
    "valid_sire_indices = df_snp_pheno_ped['sire'].map(id_to_index).notna()\n",
    "#animal_indices = animal_indices[valid_animal_indices]\n",
    "\n",
    "dam_indices = torch.tensor(df_snp_pheno_ped.loc[valid_dam_indices, 'dam'].map(id_to_index))\n",
    "sire_indices = torch.tensor(df_snp_pheno_ped.loc[valid_sire_indices, 'sire'].map(id_to_index))\n",
    "\n",
    "appended_animal_indices = torch.cat((animal_indices, animal_indices))\n",
    "appended_parent_indices = torch.cat((dam_indices, sire_indices))\n",
    "\n",
    "edge_indices = torch.cat((appended_parent_indices, appended_animal_indices)).view(2, len(appended_animal_indices))\n",
    "\n",
    "#edge_indices = torch.cat((animal_indices, dam_indices)).view(2, len(animal_indices))\n"
   ]
  },
  {
   "cell_type": "code",
   "execution_count": 52,
   "id": "d65d1a62",
   "metadata": {},
   "outputs": [],
   "source": [
    "data = Data(x=node_features, edge_index=edge_indices, y=node_labels)"
   ]
  },
  {
   "cell_type": "code",
   "execution_count": 53,
   "id": "b9d64453",
   "metadata": {},
   "outputs": [
    {
     "data": {
      "text/plain": [
       "Data(x=[284992, 26282], edge_index=[2, 504000], y=[284992])"
      ]
     },
     "execution_count": 53,
     "metadata": {},
     "output_type": "execute_result"
    }
   ],
   "source": [
    "data"
   ]
  },
  {
   "cell_type": "code",
   "execution_count": 54,
   "id": "4b06e6e5",
   "metadata": {},
   "outputs": [
    {
     "data": {
      "text/plain": [
       "284992"
      ]
     },
     "execution_count": 54,
     "metadata": {},
     "output_type": "execute_result"
    }
   ],
   "source": [
    "len(node_labels)"
   ]
  },
  {
   "cell_type": "code",
   "execution_count": 55,
   "id": "ba9b64b3",
   "metadata": {},
   "outputs": [],
   "source": [
    "data.node_ids = torch.tensor([index_to_id[index] for index in range(len(node_labels))])\n"
   ]
  },
  {
   "cell_type": "code",
   "execution_count": 57,
   "id": "ce5bb1e2",
   "metadata": {},
   "outputs": [],
   "source": [
    "id_pheno_dict = df_pheno.set_index('id')['phenotype'].astype(float).to_dict()"
   ]
  },
  {
   "cell_type": "code",
   "execution_count": 58,
   "id": "3c47aab1",
   "metadata": {},
   "outputs": [],
   "source": [
    "# Assing label to dam nodes without features but labels\n",
    "\n",
    "id_pheno_dict = df_pheno.set_index('id')['phenotype'].astype(float).to_dict()\n",
    "\n",
    "labels = [id_pheno_dict.get(node_id.item(), float('nan')) for node_id in data.node_ids]\n",
    "labels = torch.tensor(labels, dtype=torch.float32)\n",
    "\n",
    "data.y = labels"
   ]
  },
  {
   "cell_type": "code",
   "execution_count": 60,
   "id": "14b909f8",
   "metadata": {},
   "outputs": [],
   "source": [
    "y_has_nans = torch.isnan(data.y)"
   ]
  },
  {
   "cell_type": "code",
   "execution_count": 61,
   "id": "c1210419",
   "metadata": {},
   "outputs": [
    {
     "data": {
      "text/plain": [
       "tensor(2000)"
      ]
     },
     "execution_count": 61,
     "metadata": {},
     "output_type": "execute_result"
    }
   ],
   "source": [
    "y_has_nans.sum()"
   ]
  },
  {
   "cell_type": "code",
   "execution_count": 62,
   "id": "e2415b3b",
   "metadata": {},
   "outputs": [
    {
     "data": {
      "text/plain": [
       "26282"
      ]
     },
     "execution_count": 62,
     "metadata": {},
     "output_type": "execute_result"
    }
   ],
   "source": [
    "data.x.shape[1]"
   ]
  },
  {
   "cell_type": "code",
   "execution_count": 63,
   "id": "f8d55157",
   "metadata": {},
   "outputs": [
    {
     "data": {
      "text/plain": [
       "tensor([ 9.7124, 11.3992,  9.3959,  ..., 12.1882,  8.5984,  9.7769])"
      ]
     },
     "execution_count": 63,
     "metadata": {},
     "output_type": "execute_result"
    }
   ],
   "source": [
    "data.y"
   ]
  },
  {
   "cell_type": "code",
   "execution_count": 92,
   "id": "e8811756",
   "metadata": {},
   "outputs": [],
   "source": [
    "torch.save(data, dataRoot + heritability + \"/graph_maf.pt\")"
   ]
  },
  {
   "cell_type": "code",
   "execution_count": null,
   "id": "1e6ed4f6",
   "metadata": {},
   "outputs": [],
   "source": [
    "# load data\n",
    "data = torch.load(dataRoot + heritability + \"/graph_maf.pt\")"
   ]
  },
  {
   "cell_type": "code",
   "execution_count": 67,
   "id": "86f0ee55",
   "metadata": {},
   "outputs": [],
   "source": [
    "import random\n",
    "import torch\n",
    "\n",
    "def split_data(_data, val_size=0.2, test_size=0.1, random_seed=42):\n",
    "    # Set the random seed for reproducibility\n",
    "    torch.manual_seed(random_seed)\n",
    "\n",
    "    # Check if data.y contains NaN values\n",
    "    y_has_nans = torch.isnan(_data.y)\n",
    "    \n",
    "    print(type(y_has_nans))\n",
    "    \n",
    "    # Check if data.x has only zeros\n",
    "    x_has_only_zeros = torch.sum(_data.x, dim=(1, 2)) == 0\n",
    "\n",
    "    # Combine the conditions using logical OR\n",
    "    has_nans = y_has_nans | x_has_only_zeros\n",
    "\n",
    "    # Negate the boolean tensor to get the desired result\n",
    "    has_no_nans = ~has_nans\n",
    "\n",
    "    # Identify the indices where 'has_no_nans' is True\n",
    "    true_indices = torch.where(has_no_nans)[0]\n",
    "\n",
    "    # Determine the number of indices to change\n",
    "    num_indices = len(true_indices)\n",
    "    num_test_indices = int(num_indices * test_size)\n",
    "    num_val_indices = int(num_indices * val_size)\n",
    "\n",
    "    # Generate random indices for test, validation, and train sets\n",
    "    indices = torch.randperm(num_indices)\n",
    "    test_indices = true_indices[indices[:num_test_indices]]\n",
    "    val_indices = true_indices[indices[num_test_indices:num_test_indices + num_val_indices]]\n",
    "    train_indices = true_indices[indices[num_test_indices + num_val_indices:]]\n",
    "\n",
    "    # Create the masks\n",
    "    train_mask = torch.zeros_like(has_no_nans, dtype=torch.bool)\n",
    "    val_mask = torch.zeros_like(has_no_nans, dtype=torch.bool)\n",
    "    test_mask = torch.zeros_like(has_no_nans, dtype=torch.bool)\n",
    "\n",
    "    train_mask[train_indices] = True\n",
    "    val_mask[val_indices] = True\n",
    "    test_mask[test_indices] = True\n",
    "\n",
    "    return train_mask, val_mask, test_mask\n",
    "\n",
    "\n",
    "def split_data_Gen30(_data, val_size=0.2, test_size=0.1, random_seed=42):\n",
    "    # Set the random seed for reproducibility\n",
    "    torch.manual_seed(random_seed)\n",
    "\n",
    "    # Check if data.y contains NaN values\n",
    "    y_has_nans = torch.isnan(_data.y)\n",
    "    \n",
    "    # Check if data.x has only zeros\n",
    "    x_has_only_zeros = torch.sum(_data.x, dim=(1, 2)) == 0\n",
    "    #x_has_only_zeros = torch.sum(_data.x, dim=1) == 0 # ordinary\n",
    "    \n",
    "    # Convert the 'id' column of the DataFrame to a Python set for faster lookup\n",
    "    snp_ids_set = set(df_snp_gen30_ped['id'])\n",
    "\n",
    "    # Convert the tensor to a Python list or numpy array to iterate through\n",
    "    node_ids_list = _data.node_ids.tolist()\n",
    "\n",
    "    # Create a list of boolean values indicating if an ID is in the snp_ids_set\n",
    "    bool_list = [id_item in snp_ids_set for id_item in node_ids_list]\n",
    "\n",
    "    # Convert the list to a boolean tensor\n",
    "    bool_tensor_gen30 = torch.tensor(bool_list, dtype=torch.bool)\n",
    "    \n",
    "    \n",
    "    # Combine the conditions using logical OR\n",
    "    has_nans = y_has_nans | x_has_only_zeros | bool_tensor_gen30\n",
    "\n",
    "    # Negate the boolean tensor to get the desired result\n",
    "    has_no_nans = ~has_nans\n",
    "\n",
    "    # Identify the indices where 'has_no_nans' is True\n",
    "    true_indices = torch.where(has_no_nans)[0]\n",
    "\n",
    "    # Determine the number of indices to change\n",
    "    num_indices = len(true_indices)\n",
    "    num_test_indices = int(num_indices * test_size)\n",
    "    num_val_indices = int(num_indices * val_size)\n",
    "\n",
    "    # Generate random indices for test, validation, and train sets\n",
    "    indices = torch.randperm(num_indices)\n",
    "    test_indices = true_indices[indices[:num_test_indices]]\n",
    "    val_indices = true_indices[indices[num_test_indices:num_test_indices + num_val_indices]]\n",
    "    train_indices = true_indices[indices[num_test_indices + num_val_indices:]]\n",
    "\n",
    "    # Create the masks\n",
    "    train_mask = torch.zeros_like(has_no_nans, dtype=torch.bool)\n",
    "    val_mask = torch.zeros_like(has_no_nans, dtype=torch.bool)\n",
    "    test_mask = torch.zeros_like(has_no_nans, dtype=torch.bool)\n",
    "\n",
    "    train_mask[train_indices] = True\n",
    "    val_mask[val_indices] = True\n",
    "    test_mask[test_indices] = True\n",
    "\n",
    "    return train_mask, val_mask, test_mask, bool_tensor_gen30, has_no_nans\n",
    "\n",
    "#train_mask, val_mask, test_mask = split_data(data, val_size=0.2, test_size=0.1, random_seed=42)\n",
    "train_mask, val_mask, test_mask, gen30_mask, fineTrain_mask = split_data_Gen30(data, val_size=0.1, test_size=0.1, random_seed=42)"
   ]
  },
  {
   "cell_type": "code",
   "execution_count": 68,
   "id": "d5812cb2",
   "metadata": {},
   "outputs": [
    {
     "data": {
      "text/plain": [
       "tensor(168000)"
      ]
     },
     "execution_count": 68,
     "metadata": {},
     "output_type": "execute_result"
    }
   ],
   "source": [
    "train_mask.sum()"
   ]
  },
  {
   "cell_type": "code",
   "execution_count": 69,
   "id": "363befab",
   "metadata": {},
   "outputs": [
    {
     "data": {
      "text/plain": [
       "tensor(21000)"
      ]
     },
     "execution_count": 69,
     "metadata": {},
     "output_type": "execute_result"
    }
   ],
   "source": [
    "test_mask.sum()"
   ]
  },
  {
   "cell_type": "code",
   "execution_count": 70,
   "id": "2a5b78ab",
   "metadata": {},
   "outputs": [
    {
     "data": {
      "text/plain": [
       "tensor(21000)"
      ]
     },
     "execution_count": 70,
     "metadata": {},
     "output_type": "execute_result"
    }
   ],
   "source": [
    "val_mask.sum()"
   ]
  },
  {
   "cell_type": "code",
   "execution_count": 71,
   "id": "db231278",
   "metadata": {},
   "outputs": [
    {
     "data": {
      "text/plain": [
       "tensor(210000)"
      ]
     },
     "execution_count": 71,
     "metadata": {},
     "output_type": "execute_result"
    }
   ],
   "source": [
    "fineTrain_mask.sum()"
   ]
  },
  {
   "cell_type": "code",
   "execution_count": 72,
   "id": "37acddbf",
   "metadata": {},
   "outputs": [],
   "source": [
    "data.train_mask = train_mask\n",
    "data.val_mask = val_mask\n",
    "data.test_mask = test_mask\n",
    "data.gen30_mask = gen30_mask\n",
    "data.fineTrain_mask = fineTrain_mask"
   ]
  },
  {
   "cell_type": "code",
   "execution_count": 75,
   "id": "b257c6b9",
   "metadata": {},
   "outputs": [
    {
     "data": {
      "text/plain": [
       "Data(x=[284992, 26282], edge_index=[2, 504000], y=[284992], node_ids=[284992], train_mask=[284992], val_mask=[284992], test_mask=[284992], gen30_mask=[284992], fineTrain_mask=[284992])"
      ]
     },
     "execution_count": 75,
     "metadata": {},
     "output_type": "execute_result"
    }
   ],
   "source": [
    "data"
   ]
  },
  {
   "cell_type": "code",
   "execution_count": 140,
   "id": "23b26cac",
   "metadata": {},
   "outputs": [
    {
     "name": "stdout",
     "output_type": "stream",
     "text": [
      "tensor([11.5899, 12.9473, 13.4185,  ..., 12.8304, 12.4708, 12.8761])\n"
     ]
    }
   ],
   "source": [
    "# Create a boolean mask\n",
    "gen30_mask = data.gen30_mask\n",
    "\n",
    "# Apply the mask to data.y\n",
    "new_tensor = data.y[gen30_mask]\n",
    "\n",
    "print(new_tensor)"
   ]
  },
  {
   "cell_type": "code",
   "execution_count": 145,
   "id": "06e35e28",
   "metadata": {},
   "outputs": [
    {
     "name": "stdout",
     "output_type": "stream",
     "text": [
      "torch.Size([1800])\n"
     ]
    }
   ],
   "source": [
    "# Convert data_node_ids to a numpy array and then to a list\n",
    "node_ids_list = data.node_ids.numpy().astype(int).tolist()\n",
    "\n",
    "# Filter node_ids based on id column in df_snp_sire\n",
    "filtered_indices = [index for index, node_id in enumerate(node_ids_list) if node_id in df_snp_sire['id'].tolist()]\n",
    "\n",
    "# Create a new tensor using the filtered indices\n",
    "new_tensor = data.y[torch.tensor(filtered_indices)]"
   ]
  },
  {
   "cell_type": "code",
   "execution_count": 20,
   "id": "e8e2ba33",
   "metadata": {},
   "outputs": [],
   "source": [
    "import torch.nn.functional as F\n",
    "\n",
    "def create_attention_mask(data, paddedLength=-1):\n",
    "\n",
    "    # Create attention_mask (torch.FloatTensor of shape (batch_size, sequence_length)) for train and val\n",
    "    attention_mask = torch.ones(data.x.shape[0], data.x.shape[1]).to('cpu')\n",
    "\n",
    "    if(paddedLength != -1 and paddedLength > data.x.shape[1]):\n",
    "        pad = paddedLength - data.x.shape[1]\n",
    "        # Pad the data to the max length\n",
    "        X_pad = np.pad(data.x.to('cpu'), ((0,0),(0,pad),(0,0)), 'constant', constant_values=0)\n",
    "        attention_mask = F.pad(attention_mask, (0,pad), 'constant', 0)\n",
    "\n",
    "    data.x_pad = torch.tensor(X_pad, dtype=torch.float16)\n",
    "    data.attention_mask = attention_mask"
   ]
  },
  {
   "cell_type": "code",
   "execution_count": 87,
   "id": "b23476e5",
   "metadata": {},
   "outputs": [],
   "source": [
    "import torch.nn.functional as F\n",
    "\n",
    "def create_attention_mask_cat(data, paddedLength=-1):\n",
    "\n",
    "    # Create attention_mask (torch.FloatTensor of shape (batch_size, sequence_length)) for train and val\n",
    "    attention_mask = torch.ones(data.x.shape[0], data.x.shape[1]).to('cpu')\n",
    "\n",
    "    if(paddedLength != -1 and paddedLength > data.x.shape[1]):\n",
    "        pad = paddedLength - data.x.shape[1]\n",
    "        # Pad the data to the max length\n",
    "        X_pad = np.pad(data.x.to('cpu'), ((0,0),(0,pad)), 'constant', constant_values=4)\n",
    "        attention_mask = F.pad(attention_mask, (0,pad), 'constant', 0)\n",
    "\n",
    "    data.x_pad = torch.tensor(X_pad, dtype=torch.int8)\n",
    "    data.attention_mask = attention_mask"
   ]
  },
  {
   "cell_type": "code",
   "execution_count": 22,
   "id": "ceec696d",
   "metadata": {},
   "outputs": [],
   "source": [
    "create_attention_mask(data, paddedLength=26624)"
   ]
  },
  {
   "cell_type": "code",
   "execution_count": 88,
   "id": "0dd999f3",
   "metadata": {},
   "outputs": [],
   "source": [
    "create_attention_mask_cat(data, paddedLength=26624)"
   ]
  },
  {
   "cell_type": "code",
   "execution_count": 31,
   "id": "712e8410",
   "metadata": {},
   "outputs": [
    {
     "data": {
      "text/plain": [
       "True"
      ]
     },
     "execution_count": 31,
     "metadata": {},
     "output_type": "execute_result"
    }
   ],
   "source": [
    "data.validate(raise_on_error=True)"
   ]
  },
  {
   "cell_type": "code",
   "execution_count": 32,
   "id": "fcff4082",
   "metadata": {},
   "outputs": [
    {
     "name": "stdout",
     "output_type": "stream",
     "text": [
      "['node_ids', 'edge_index', 'y', 'test_mask', 'x_pad', 'val_mask', 'attention_mask', 'x', 'train_mask']\n"
     ]
    }
   ],
   "source": [
    "print(data.keys)"
   ]
  },
  {
   "cell_type": "code",
   "execution_count": 6,
   "id": "568bc2b4",
   "metadata": {},
   "outputs": [
    {
     "name": "stdout",
     "output_type": "stream",
     "text": [
      "x found in data\n",
      "edge_index found in data\n",
      "y found in data\n",
      "node_ids found in data\n",
      "train_mask found in data\n",
      "val_mask found in data\n",
      "test_mask found in data\n"
     ]
    }
   ],
   "source": [
    "for key, item in data:\n",
    "    print(f'{key} found in data')"
   ]
  },
  {
   "cell_type": "code",
   "execution_count": 8,
   "id": "178e94fc",
   "metadata": {},
   "outputs": [
    {
     "data": {
      "text/plain": [
       "240992"
      ]
     },
     "execution_count": 8,
     "metadata": {},
     "output_type": "execute_result"
    }
   ],
   "source": [
    "data.num_nodes"
   ]
  },
  {
   "cell_type": "code",
   "execution_count": 9,
   "id": "c10c0a9f",
   "metadata": {},
   "outputs": [
    {
     "data": {
      "text/plain": [
       "210000"
      ]
     },
     "execution_count": 9,
     "metadata": {},
     "output_type": "execute_result"
    }
   ],
   "source": [
    "data.num_edges"
   ]
  },
  {
   "cell_type": "code",
   "execution_count": 10,
   "id": "bc511f8c",
   "metadata": {},
   "outputs": [
    {
     "data": {
      "text/plain": [
       "3"
      ]
     },
     "execution_count": 10,
     "metadata": {},
     "output_type": "execute_result"
    }
   ],
   "source": [
    "data.num_node_features"
   ]
  },
  {
   "cell_type": "code",
   "execution_count": 11,
   "id": "12d7f459",
   "metadata": {},
   "outputs": [
    {
     "data": {
      "text/plain": [
       "False"
      ]
     },
     "execution_count": 11,
     "metadata": {},
     "output_type": "execute_result"
    }
   ],
   "source": [
    "data.has_isolated_nodes()"
   ]
  },
  {
   "cell_type": "code",
   "execution_count": 12,
   "id": "7629ac83",
   "metadata": {},
   "outputs": [
    {
     "data": {
      "text/plain": [
       "False"
      ]
     },
     "execution_count": 12,
     "metadata": {},
     "output_type": "execute_result"
    }
   ],
   "source": [
    "data.has_self_loops()"
   ]
  },
  {
   "cell_type": "code",
   "execution_count": 13,
   "id": "139d3b7c",
   "metadata": {},
   "outputs": [
    {
     "data": {
      "text/plain": [
       "True"
      ]
     },
     "execution_count": 13,
     "metadata": {},
     "output_type": "execute_result"
    }
   ],
   "source": [
    "data.is_directed()"
   ]
  },
  {
   "cell_type": "code",
   "execution_count": 86,
   "id": "1d56cf08",
   "metadata": {},
   "outputs": [
    {
     "name": "stdout",
     "output_type": "stream",
     "text": [
      "The graph does not contain any self-loops.\n"
     ]
    }
   ],
   "source": [
    "import torch\n",
    "from torch_geometric.utils import contains_self_loops\n",
    "\n",
    "# Check if the graph contains self-loops\n",
    "has_self_loops = contains_self_loops(data.edge_index)\n",
    "\n",
    "if has_self_loops:\n",
    "    # Find the indices of nodes with self-loops\n",
    "    self_loop_indices = (data.edge_index[0] == data.edge_index[1]).nonzero().view(-1)\n",
    "    nodes_with_self_loops = self_loop_indices.unique()\n",
    "\n",
    "    print(\"Nodes with self-loops:\")\n",
    "    print(nodes_with_self_loops)\n",
    "else:\n",
    "    print(\"The graph does not contain any self-loops.\")\n"
   ]
  },
  {
   "cell_type": "code",
   "execution_count": 43,
   "id": "58891d9a",
   "metadata": {},
   "outputs": [
    {
     "data": {
      "text/plain": [
       "1260200.0"
      ]
     },
     "execution_count": 43,
     "metadata": {},
     "output_type": "execute_result"
    }
   ],
   "source": [
    "# get the highest node index\n",
    "highest_node_index = data.node_ids.max().item()\n",
    "highest_node_index"
   ]
  },
  {
   "cell_type": "code",
   "execution_count": null,
   "id": "919bc8eb",
   "metadata": {},
   "outputs": [],
   "source": [
    "# Convert edge_index to NetworkX graph\n",
    "import networkx as nx\n",
    "\n",
    "graph = nx.DiGraph()\n",
    "source, target = data.edge_index\n",
    "graph.add_edges_from(zip(source.tolist(), target.tolist()))\n",
    "\n",
    "# Plot the graph\n",
    "pos = nx.fruchterman_reingold_layout(graph) \n",
    "plt.figure(figsize=(20, 20))\n",
    "labels = {node: label for node, label in enumerate(data.node_ids.tolist())}\n",
    "nx.draw(graph, pos, with_labels=True, node_color='lightblue', node_size=500, font_size=8, labels=labels)\n",
    "plt.show()"
   ]
  },
  {
   "cell_type": "code",
   "execution_count": 68,
   "id": "b5b01565",
   "metadata": {},
   "outputs": [
    {
     "name": "stdout",
     "output_type": "stream",
     "text": [
      "Node IDs with NaN labels:\n",
      "44000\n"
     ]
    }
   ],
   "source": [
    "nan_indices = torch.isnan(data.y)\n",
    "nan_node_ids = torch.nonzero(nan_indices).squeeze()\n",
    "\n",
    "print(\"Node IDs with NaN labels:\")\n",
    "print(len(nan_node_ids))\n"
   ]
  },
  {
   "cell_type": "code",
   "execution_count": 45,
   "id": "731a6b31",
   "metadata": {},
   "outputs": [
    {
     "name": "stdout",
     "output_type": "stream",
     "text": [
      "Node IDs with NaN node features:\n",
      "0\n"
     ]
    }
   ],
   "source": [
    "#nan_indices = torch.isnan(data.x).any(dim=1)\n",
    "nan_indices =  torch.isnan(data.x).any(dim=2).any(dim=1)\n",
    "nan_node_ids = torch.nonzero(nan_indices).squeeze()\n",
    "\n",
    "print(\"Node IDs with NaN node features:\")\n",
    "print(len(nan_node_ids))\n"
   ]
  }
 ],
 "metadata": {
  "kernelspec": {
   "display_name": "Python 3 (ipykernel)",
   "language": "python",
   "name": "python3"
  },
  "language_info": {
   "codemirror_mode": {
    "name": "ipython",
    "version": 3
   },
   "file_extension": ".py",
   "mimetype": "text/x-python",
   "name": "python",
   "nbconvert_exporter": "python",
   "pygments_lexer": "ipython3",
   "version": "3.9.16"
  },
  "vscode": {
   "interpreter": {
    "hash": "369f2c481f4da34e4445cda3fffd2e751bd1c4d706f27375911949ba6bb62e1c"
   }
  }
 },
 "nbformat": 4,
 "nbformat_minor": 5
}
